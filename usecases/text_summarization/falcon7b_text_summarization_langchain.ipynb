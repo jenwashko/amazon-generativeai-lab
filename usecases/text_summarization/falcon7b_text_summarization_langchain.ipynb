{
 "cells": [
  {
   "cell_type": "markdown",
   "id": "d98e7379-6879-415c-856f-3ace919026d4",
   "metadata": {
    "tags": []
   },
   "source": [
    "# Summarization on Custom Dataset with SageMaker Jumpstart and [LangChain](https://python.langchain.com/en/latest/index.html) Library\n",
    "\n",
    "Reference: https://github.com/gkamradt/langchain-tutorials/tree/main/data_generation"
   ]
  },
  {
   "cell_type": "markdown",
   "id": "62d4f450-2126-416f-a6a1-b3adfc14a921",
   "metadata": {},
   "source": [
    "\n",
    " There are two main types of methods for summarizing text: abstractive and extractive.\n",
    "\n",
    "Abstractive summarization generates a new shorter summary in its own words based on understanding the meaning and concepts of the original text. It analyzes the text using advanced natural language techniques to grasp the key ideas and then expresses those ideas in a summarized form using different words and phrases. This is similar to how humans summarize by reading something and then explaining the main points in their own words.\n",
    "\n",
    "Extractive summarization works by selecting the most important sentences, phrases or words from the original text to construct a summary. It calculates the weight or importance of each part of the text using algorithms and then chooses the parts with the highest weights to put into the summary. This pulls summarizes by extracting key elements from the text itself rather than interpreting the meaning.\n",
    "\n",
    "So in short, abstractive summarization rewrites the key ideas in new words while extractive summarization selects the most salient parts of the existing text. Both aim to distill the essence and most significant information from the original document into a condensed summary.\n",
    "\n",
    "We're going to run through 3 methods for summarization that start with basic prompting to summarizing large documents using `map_reduce` method. These aren't the only options, feel free to modify it based on your use case. \n",
    "\n",
    "**3 Levels Of Summarization:**\n",
    "1. **Summarize a couple sentences** - Basic Prompt\n",
    "2. **Summarize a couple paragraphs** - Prompt Templates\n",
    "3. **Summarize a large document with multiple pages** - Map Reduce\n",
    "\n",
    "In this notebook we will demonstrate how to use a **Falcon 7b Instruct** model for text summarization using a library of documents as a reference.\n",
    "\n",
    "**This notebook serves a template such that you can easily replace the example dataset by your own to build a custom text summarization application. Let's install some dependencies that will be required and initialize some basic variables.**"
   ]
  },
  {
   "cell_type": "code",
   "execution_count": null,
   "id": "def9c9e3-ab82-4be3-bfdf-8e1ca9bf3e98",
   "metadata": {
    "scrolled": true,
    "tags": []
   },
   "outputs": [],
   "source": [
    "!pip install --upgrade pip\n",
    "!pip install --upgrade sagemaker --quiet\n",
    "!pip install --upgrade langchain --quiet\n",
    "!pip install datasets"
   ]
  },
  {
   "cell_type": "code",
   "execution_count": null,
   "id": "66a95503-078d-4571-9939-6fa420e73466",
   "metadata": {
    "tags": []
   },
   "outputs": [],
   "source": [
    "import sagemaker\n",
    "from sagemaker.session import Session\n",
    "import boto3\n",
    "import os\n",
    "\n",
    "sagemaker_session = Session()\n",
    "aws_role = sagemaker_session.get_caller_identity_arn()\n",
    "aws_region = boto3.Session().region_name\n",
    "sess = sagemaker.Session()\n",
    "\n",
    "print(f\"Region is {aws_region}, Role is {aws_role}\")"
   ]
  },
  {
   "cell_type": "markdown",
   "id": "e371d3e0-9666-4ade-a901-f508c2110d50",
   "metadata": {},
   "source": [
    "## Deploy large language model (LLM) and embedding model in SageMaker JumpStart\n",
    "---\n",
    "\n",
    "To better illustrate the idea, let's first deploy all the models that are required to perform the demo. You can see the list of Falcon models available via JumpStart by running the following code block. You can deploy any of the 7b models on a minimum of `ml.g5.12xlarge` instance type for ideal performance. For 40b we recommend atleast a 24xl or higher. In this tutorial, we will deploy the `huggingface-llm-falcon-7b-instruct-bf16` model."
   ]
  },
  {
   "cell_type": "code",
   "execution_count": 2,
   "id": "c237850b-254c-4aa0-a05c-239e60608936",
   "metadata": {
    "tags": []
   },
   "outputs": [
    {
     "name": "stderr",
     "output_type": "stream",
     "text": [
      "/opt/conda/lib/python3.10/site-packages/scipy/__init__.py:155: UserWarning: A NumPy version >=1.18.5 and <1.25.0 is required for this version of SciPy (detected version 1.25.1\n",
      "  warnings.warn(f\"A NumPy version >={np_minversion} and <{np_maxversion}\"\n"
     ]
    },
    {
     "name": "stdout",
     "output_type": "stream",
     "text": [
      "sagemaker.config INFO - Not applying SDK defaults from location: /etc/xdg/sagemaker/config.yaml\n",
      "sagemaker.config INFO - Not applying SDK defaults from location: /root/.config/sagemaker/config.yaml\n",
      "===== Available Models =====\n"
     ]
    },
    {
     "data": {
      "text/plain": [
       "['huggingface-llm-falcon-180b-bf16',\n",
       " 'huggingface-llm-falcon-180b-chat-bf16',\n",
       " 'huggingface-llm-falcon-40b-bf16',\n",
       " 'huggingface-llm-falcon-40b-instruct-bf16',\n",
       " 'huggingface-llm-falcon-7b-bf16',\n",
       " 'huggingface-llm-falcon-7b-instruct-bf16',\n",
       " 'huggingface-llm-rinna-3-6b-instruction-ppo-bf16']"
      ]
     },
     "execution_count": 2,
     "metadata": {},
     "output_type": "execute_result"
    }
   ],
   "source": [
    "# To list all the available textgeneration models in JumpStart uncomment and run the code below\n",
    "from sagemaker.jumpstart.notebook_utils import list_jumpstart_models, list_jumpstart_tasks\n",
    "filter_value = \"task == llm\"\n",
    "\n",
    "print(\"===== Available Models =====\")\n",
    "text_generation_models = list_jumpstart_models(filter=filter_value)\n",
    "text_generation_models"
   ]
  },
  {
   "cell_type": "code",
   "execution_count": 81,
   "id": "31a98a0c-ad20-4a54-adfa-e92757564d86",
   "metadata": {
    "tags": []
   },
   "outputs": [],
   "source": [
    "model_id = 'huggingface-llm-falcon-7b-instruct-bf16'"
   ]
  },
  {
   "cell_type": "markdown",
   "id": "a308c990-abf9-4341-8014-975a40fc2f7b",
   "metadata": {},
   "source": [
    "We will now deploy this model to a SageMaker endpoint for inference."
   ]
  },
  {
   "cell_type": "code",
   "execution_count": 82,
   "id": "6018d429-cd3b-43cf-97ca-637362bdfdaa",
   "metadata": {
    "tags": []
   },
   "outputs": [
    {
     "name": "stdout",
     "output_type": "stream",
     "text": [
      "------------------!"
     ]
    }
   ],
   "source": [
    "from sagemaker.jumpstart.model import JumpStartModel\n",
    "\n",
    "try:\n",
    "    model = JumpStartModel(model_id=model_id, instance_type=\"ml.g5.12xlarge\")\n",
    "    predictor = model.deploy()\n",
    "except Exception as e:\n",
    "    print(str(e))"
   ]
  },
  {
   "cell_type": "code",
   "execution_count": 6,
   "id": "118fe880-470f-4ae7-94e9-b908f910709a",
   "metadata": {
    "tags": []
   },
   "outputs": [],
   "source": [
    "endpoint_name =predictor.endpoint_name\n",
    "region = aws_region"
   ]
  },
  {
   "cell_type": "code",
   "execution_count": 84,
   "id": "33d57e89-8748-453e-bf64-ed9721288b2a",
   "metadata": {
    "tags": []
   },
   "outputs": [
    {
     "name": "stdout",
     "output_type": "stream",
     "text": [
      "SageMaker Endpoint with Falcon-7b deployed: hf-llm-falcon-7b-instruct-bf16-2023-09-22-19-15-08-370\n"
     ]
    }
   ],
   "source": [
    "print(f\"SageMaker Endpoint with Falcon-7b deployed: {endpoint_name}\")"
   ]
  },
  {
   "cell_type": "markdown",
   "id": "317ff31d-d676-45c3-90f1-7c483dbf2e32",
   "metadata": {},
   "source": [
    "## Summarize a few sentences \n",
    "---"
   ]
  },
  {
   "cell_type": "code",
   "execution_count": 85,
   "id": "c922e936-9da3-4b7d-b56d-ac3c92af2e55",
   "metadata": {
    "tags": []
   },
   "outputs": [],
   "source": [
    "prompt = \"\"\"\n",
    "Given the following text, provide a coincise and complete summary.\n",
    "\n",
    "Text:\n",
    "Philosophy (from Greek: φιλοσοφία, philosophia, 'love of wisdom') \\\n",
    "is the systematized study of general and fundamental questions, \\\n",
    "such as those about existence, reason, knowledge, values, mind, and language. \\\n",
    "Some sources claim the term was coined by Pythagoras (c. 570 – c. 495 BCE), \\\n",
    "although this theory is disputed by some. Philosophical methods include questioning, \\\n",
    "critical discussion, rational argument, and systematic presentation.\n",
    "\n",
    "Summary:\n",
    "\"\"\""
   ]
  },
  {
   "cell_type": "markdown",
   "id": "9116c5b5-9dcd-459c-902d-9ebd06b4e6fb",
   "metadata": {},
   "source": [
    "In order to use our model endpoint with LangChain we wrap up endpoints for LLM into `langchain.llms.sagemaker_endpoint.SagemakerEndpoint` which is LangChain's built in support for SageMaker endpoints. "
   ]
  },
  {
   "cell_type": "code",
   "execution_count": 7,
   "id": "c58acef7-fda1-4a57-9dd7-f4777e4a67d1",
   "metadata": {
    "tags": []
   },
   "outputs": [],
   "source": [
    "import json\n",
    "import re\n",
    "from langchain import SagemakerEndpoint\n",
    "from langchain.llms.sagemaker_endpoint import LLMContentHandler\n",
    "from langchain import PromptTemplate, LLMChain\n",
    "\n",
    "class ContentHandler(LLMContentHandler):\n",
    "    content_type = \"application/json\"\n",
    "    accepts = \"application/json\"\n",
    "\n",
    "    def transform_input(self, prompt: str, model_kwargs: dict) -> bytes:\n",
    "        input_str = json.dumps({\"inputs\": prompt,  \"parameters\": model_kwargs}) \n",
    "        return input_str.encode('utf-8')\n",
    "    \n",
    "    def transform_output(self, output: bytes) -> str:\n",
    "        response_json = json.loads(output.read().decode(\"utf-8\"))\n",
    "        return response_json[0][\"generated_text\"]\n",
    "\n",
    "content_handler = ContentHandler()\n",
    "\n",
    "sm_llm=SagemakerEndpoint(\n",
    "        endpoint_name=endpoint_name, \n",
    "        region_name=aws_region,\n",
    "        model_kwargs={\"do_sample\": True,\n",
    "                                    \"top_p\": 0.9,\n",
    "                                    \"temperature\": 0.5,\n",
    "                                    \"max_new_tokens\":  100,\n",
    "                                    \"stop\": [\"<|endoftext|>\", \"</s>\"]},\n",
    "        content_handler=content_handler\n",
    "    )"
   ]
  },
  {
   "cell_type": "code",
   "execution_count": 87,
   "id": "2e94fec1-88fb-4abf-8297-fafcafcd514f",
   "metadata": {
    "tags": []
   },
   "outputs": [
    {
     "name": "stdout",
     "output_type": "stream",
     "text": [
      "Our prompt has 130 tokens\n"
     ]
    }
   ],
   "source": [
    "num_tokens = sm_llm.get_num_tokens(prompt)\n",
    "print (f\"Our prompt has {num_tokens} tokens\")"
   ]
  },
  {
   "cell_type": "code",
   "execution_count": 94,
   "id": "75ebd258-5276-4d81-b907-ae7e66fd315a",
   "metadata": {
    "tags": []
   },
   "outputs": [
    {
     "name": "stdout",
     "output_type": "stream",
     "text": [
      "Philosophy is a branch of knowledge that focuses on fundamental questions like existence, reason, knowledge, values, and language. It is characterized by methods such as questioning, critical discussion, and rational argument.\n"
     ]
    }
   ],
   "source": [
    "output = sm_llm(prompt)\n",
    "print(output)"
   ]
  },
  {
   "cell_type": "code",
   "execution_count": 99,
   "id": "3281803b-7889-416c-afbd-dc8cfebda57b",
   "metadata": {
    "tags": []
   },
   "outputs": [],
   "source": [
    "prompt = \"\"\"\n",
    "Given the following text, write a 1 line summary.\n",
    "\n",
    "Text:\n",
    "Philosophy (from Greek: φιλοσοφία, philosophia, 'love of wisdom') \\\n",
    "is the systematized study of general and fundamental questions, \\\n",
    "such as those about existence, reason, knowledge, values, mind, and language. \\\n",
    "Some sources claim the term was coined by Pythagoras (c. 570 – c. 495 BCE), \\\n",
    "although this theory is disputed by some. Philosophical methods include questioning, \\\n",
    "critical discussion, rational argument, and systematic presentation.\n",
    "\n",
    "Summary:\n",
    "\"\"\""
   ]
  },
  {
   "cell_type": "code",
   "execution_count": 100,
   "id": "9c1e7bec-cf0d-45dc-88e0-03f381b496e3",
   "metadata": {
    "tags": []
   },
   "outputs": [
    {
     "name": "stdout",
     "output_type": "stream",
     "text": [
      "Philosophy is a branch of knowledge concerned with fundamental questions, including existence, reason, knowledge, values, and language.\n"
     ]
    }
   ],
   "source": [
    "output = sm_llm(prompt)\n",
    "print (output)"
   ]
  },
  {
   "cell_type": "markdown",
   "id": "43ec95dd-4c5b-4db6-8a5c-ce077e9c9e39",
   "metadata": {},
   "source": [
    "##  Summarize a couple paragraphs -  Prompt Templates\n",
    "---\n",
    "\n",
    "Prompt templates are a great way to dynamically place text within your prompts. They are like [python f-strings](https://realpython.com/python-f-strings/) but specialized for working with language models.\n",
    "\n",
    "We're going to look at 2 short Paul Graham essays"
   ]
  },
  {
   "cell_type": "code",
   "execution_count": 101,
   "id": "20cd99d5-4fc5-478a-aac7-0b4212059973",
   "metadata": {
    "tags": []
   },
   "outputs": [
    {
     "name": "stdout",
     "output_type": "stream",
     "text": [
      "What I Worked On\n",
      " \n",
      " February 2021\n",
      " \n",
      " Before college the two main things I worked on, outside of school, were writing and programming. I didn't write essays. I wrote what beginning writers were supposed to write then, and probably still are: short stories. My stories were awful. They had hardly any plot, just characters with strong feelings, which I imagined made them deep.\n",
      " \n",
      " The first programs I tried writing were on the IBM 1401 that our school district used for what was then called \"data processing.\" This was in 9th grade, so I was 13 or 14. The school district's 1401 happened to be in the basement of our junior high school, and my friend Rich Draves and I got permission to use it. It was like a mini Bond villain's lair down there, with all these alien-looking machines — CPU, disk drives, printer, card reader — sitting up on a raised floor under bright fluorescent lights.\n",
      "===============\n",
      "As well as HN, I wrote all of YC's internal software in Arc. But while I continued to work a good deal in Arc, I gradually stopped working on Arc, partly because I didn't have time to, and partly because it was a lot less attractive to mess around with the language now that we had all this infrastructure depending on it. So now my three projects were reduced to two: writing essays and working on YC.\n",
      " \n",
      " YC was different from other kinds of work I've done. Instead of deciding for myself what to work on, the problems came to me. Every 6 months there was a new batch of startups, and their problems, whatever they were, became our problems. It was very engaging work, because their problems were quite varied, and the good founders were very effective. If you were trying to learn the most you could about startups in the shortest possible time, you couldn't have picked a better way to do it.\n",
      "===============\n"
     ]
    }
   ],
   "source": [
    "from datasets import load_dataset\n",
    "dataset = load_dataset(\"chromadb/paul_graham_essay\")\n",
    "essay1 = dataset['data'][0]['document']\n",
    "essay2 = dataset['data'][1]['document']\n",
    "\n",
    "essays=[essay1, essay2]\n",
    "for essay in essays:\n",
    "    print(essay)\n",
    "    print(\"===============\")"
   ]
  },
  {
   "cell_type": "markdown",
   "id": "a0a80929-324f-44fb-8a7f-0b253863d8f9",
   "metadata": {},
   "source": [
    "Next let's create a prompt template which will hold our instructions and a placeholder for the essay. In this example we only want a 1 sentence summary to come back."
   ]
  },
  {
   "cell_type": "code",
   "execution_count": 103,
   "id": "5f5c327a-0daf-4c76-94db-82c9a30b5e28",
   "metadata": {
    "tags": []
   },
   "outputs": [],
   "source": [
    "template = \"\"\"\n",
    "Given the following text, write a short summary.\n",
    "\n",
    "Text: {essay}\n",
    "Summary:\n",
    "\"\"\"\n",
    "\n",
    "prompt = PromptTemplate(\n",
    "    input_variables=[\"essay\"],\n",
    "    template=template\n",
    ")"
   ]
  },
  {
   "cell_type": "code",
   "execution_count": 104,
   "id": "0418ab48-ad3e-445f-83ae-f0ac4bf1169a",
   "metadata": {
    "tags": []
   },
   "outputs": [
    {
     "name": "stdout",
     "output_type": "stream",
     "text": [
      "--> This prompt + essay has 216 tokens\n",
      "Summary: The author worked on writing and programming before college, focusing on short stories and 'data processing' on an IBM 1401. They describe their writing and programming experiences as being centered around strong emotions and characters.\n",
      "\n",
      "\n",
      "--> This prompt + essay has 215 tokens\n",
      "Summary: The text describes the author's experience at Y Combinator, where they worked on both internal software and external startups. They found YC's problems engaging and beneficial for learning about startups in a short time frame.\n",
      "\n",
      "\n"
     ]
    }
   ],
   "source": [
    "sm_llm=SagemakerEndpoint(\n",
    "        endpoint_name=endpoint_name, \n",
    "        region_name=aws_region,\n",
    "        model_kwargs={\"do_sample\": True,\n",
    "                                    \"top_p\": 0.9,\n",
    "                                    \"temperature\": 0.8,\n",
    "                                    \"max_new_tokens\":  200,\n",
    "                                    \"stop\": [\"<|endoftext|>\", \"</s>\"]},\n",
    "        content_handler=content_handler\n",
    "    )\n",
    "\n",
    "for essay in essays:\n",
    "    summary_prompt = prompt.format(essay=essay)\n",
    "    \n",
    "    num_tokens = sm_llm.get_num_tokens(summary_prompt)\n",
    "    print (f\"--> This prompt + essay has {num_tokens} tokens\")\n",
    "    \n",
    "    summary = sm_llm(summary_prompt)\n",
    "    \n",
    "    print (f\"Summary: {summary.strip()}\")\n",
    "    print (\"\\n\")"
   ]
  },
  {
   "cell_type": "markdown",
   "id": "62b6a8c9-c9ce-4178-9474-095ed6ff6879",
   "metadata": {
    "tags": []
   },
   "source": [
    "## Summarize large text  from multiple pages of a document - MapReduce\n",
    "---\n",
    "\n",
    "If you have multiple pages you'd like to summarize, you'll likely hve large amounts of text and will likely run into a token limit. Token limits won't always be a problem, but it is good to know how to handle them if you run into the issue.\n",
    "\n",
    "The chain type \"Map Reduce\" is a method that helps with this. You first generate a summary of smaller chunks (that fit within the token limit) and then you get a summary of the summaries.\n",
    "\n",
    "Check out [this video](https://www.youtube.com/watch?v=f9_BWhCI4Zo) for more information on how chain types work. We will use articles from the PubMed dataset available via HuggingFace `datasets`."
   ]
  },
  {
   "cell_type": "code",
   "execution_count": 63,
   "id": "2404fbe2-5894-4429-b987-274cacbe855e",
   "metadata": {
    "scrolled": true,
    "tags": []
   },
   "outputs": [
    {
     "name": "stdout",
     "output_type": "stream",
     "text": [
      "a recent systematic analysis showed that in 2011 , 314 ( 296 - 331 ) million children younger than 5 years were mildly , moderately or severely stunted and 258 ( 240 - 274 ) million were mildly , moderately or severely underweight in the developing countries . \n",
      " in iran a study among 752 high school girls in sistan and baluchestan showed prevalence of 16.2% , 8.6% and 1.5% , for underweight , overweight and obesity , respectively . \n",
      " the prevalence of malnutrition among elementary school aged children in tehran varied from 6% to 16% . \n",
      " anthropometric study of elementary school students in shiraz revealed that 16% of them suffer from malnutrition and low body weight . \n",
      " snack should have 300 - 400 kcal energy and could provide 5 - 10 g of protein / day . nowadays , school nutrition programs are running as the national programs , world - wide . national school lunch program in the united states \n",
      " there are also some reports regarding school feeding programs in developing countries . in vietnam , \n",
      " school base program showed an improvement in nutrient intakes . in iran a national free food program ( nffp ) \n",
      " is implemented in elementary schools of deprived areas to cover all poor students . however , this program is not conducted in slums and poor areas of the big cities so many malnourished children with low socio - economic situation are not covered by nffp . although the rate of poverty in areas known as deprived is higher than other areas , many students in deprived areas are not actually poor and can afford food . \n",
      " hence , nutritional value of the nffp is lower than the scientific recommended snacks for this age group . \n",
      " furthermore , lack of variety of food packages has decreased the tendency of children toward nffp . on the other hand , \n",
      " the most important one is ministry of education ( moe ) of iran , which is responsible for selecting and providing the packages for targeted schools . \n",
      " the ministry of health ( moh ) is supervising the health situation of students and their health needs . \n",
      " welfare organizations , along with charities , have the indirect effect on nutritional status of students by financial support of their family . \n",
      " provincial governors have also the role of coordinating and supervising all activities of these organizations . \n",
      " parent - teacher association is a community - based institution that participates in school 's policy such as nffp . \n",
      " in addition to these organizations , nutritional literacy of students , their parents and teachers , is a very important issue , which could affect nutritional status of school age children . \n",
      " therefore , the present study was conducted with the aim of improving the nffp , so that by its resources all poor children will be covered even in big cities . \n",
      " moreover , all food packages were replaced by nutritious and diverse packages that were accessible for non - poor children . according to the aim of this study and multiple factors that could affect the problem , \n",
      " public health advocacy has been chosen as the best strategy to deal with this issue . \n",
      " therefore , the present study determines the effects of nutrition intervention in an advocacy process model on the prevalence of underweight in school aged children in the poor area of shiraz , iran . \n",
      " this interventional study has been carried out between 2009 and 2010 in shiraz , iran . \n",
      " this survey was approved by the research committee of shiraz university of medical sciences . in coordination with education organization of fars province \n",
      " two elementary schools and one middle school in the third region of the urban area of shiraz were selected randomly . in those schools all \n",
      " students ( 2897 , 7 - 13 years old ) were screened based on their body mass index ( bmi ) by nutritionists . according to convenience method all \n",
      " students divided to two groups based on their economic situation ; family revenue and head of household 's job and nutrition situation ; the first group were poor and malnourished students and the other group were well nourished or well - off students . \n",
      " for this report , the children 's height and weight were entered into center for disease control and prevention ( cdc ) to calculate bmi and bmi - for - age z - scores based on cdc for diseases control and prevention and growth standards . \n",
      " the significance of the difference between proportions was calculated using two - tailed z - tests for independent proportions . for implementing the interventions , \n",
      " the advocacy process model weight was to the nearest 0.1 kg on a balance scale ( model # seca scale ) . \n",
      " standing height was measured to the nearest 0.1 cm with a wall - mounted stadiometer . \n",
      " advocacy group formation : this step was started with stakeholder analysis and identifying the stakeholders . \n",
      " the team was formed with representatives of all stakeholders include ; education organization , welfare organization , deputy for health of shiraz university , food and cosmetic product supervisory office and several non - governmental organizations and charities . situation analysis : this was carried out by use of existing data such as formal report of organizations , literature review and focus group with experts . \n",
      " the prevalence of malnutrition and its related factors among students was determined and weaknesses and strengths of the nffp were analyzed . \n",
      " accordingly , three sub - groups were established : research and evaluation , education and justification and executive group . designing the strategies : \n",
      " three strategies were identified ; education and justification campaign , nutritional intervention ( providing nutritious , safe and diverse snacks ) and networking . performing the interventions : interventions that were implementing in selected schools were providing a diverse and nutritious snack package along with nutrition education for both groups while the first group ( poor and malnourished students ) was utilized the package free of charge . \n",
      " education and justification intervention : regarding the literature review and expert opinion , an educational group affiliated with the advocacy team has prepared educational booklets about nutritional information for each level ( degree ) . \n",
      " accordingly , education of these booklets has been integrated into regular education of students and they educated and justified for better nutrition life - style . \n",
      " it leads the educational group to hold several meeting with the student 's parents to justify them about the project and its benefit for their children . \n",
      " after these meetings , parental desire for participation in the project illustrated the effectiveness of the justification meeting with them . \n",
      " for educate fifteen talk show programs in tv and radio , 12 published papers in the local newspaper , have implemented to mobilize the community and gain their support . \n",
      " healthy diet , the importance of breakfast and snack in adolescence , wrong food habits among school age children , role of the family to improve food habit of children were the main topics , in which media campaign has focused on . \n",
      " nutritional intervention : the snack basket of the students was replaced with traditional , nutritious and diverse foods . in general , the new snack package in average has provided 380 kcal energy , 15 g protein along with sufficient calcium and iron . \n",
      " low economic and malnourished children were supported by executive group affiliated with advocacy team and the rest of them prepare their snack by themselves . \n",
      " research and evaluation : in this step , the literacy and anthropometric indices ( bmi ) of students were assessed before and after the interventions . \n",
      " the reference for anthropometric measures was the world health organization / national center for health statistics ( who / nchs ) standards and the cut - offs were - two standard deviations ( sd ) from the mean . \n",
      " each student that was malnourished and poor has been taken into account for free food and nutritious snacks . \n",
      " demographic information , height , weight and knowledge of the students were measured by use of a validated and reliable ( cronbach 's alpha was 0.61 ) questionnaire . \n",
      " this project is granted by shiraz university of medical sciences , charities and welfare organization and education organization of fars province . \n",
      " statistical analyses were performed using the statistical package for the social sciences ( spss ) software , version 17.0 ( spss inc . , \n",
      " the results are expressed as mean  sd and proportions as appropriated . in order to determine the effective variables on the malnutrition status \n",
      " paired t test was used to compare the end values with baseline ones in each group . \n",
      " in this project , the who z - score cut - offs used were as follow : using bmi - for - age z - scores ; overweight : > + 1 sd , i.e. , z - score > 1 ( equivalent to bmi 25 kg / m ) , obesity : > + 2 sd ( equivalent to bmi 30 kg / m ) , thinness : < 2 sd and severe thinness : < 3 sd . \n",
      " this interventional study has been carried out between 2009 and 2010 in shiraz , iran . \n",
      " this survey was approved by the research committee of shiraz university of medical sciences . in coordination with education organization of fars province \n",
      " two elementary schools and one middle school in the third region of the urban area of shiraz were selected randomly . in those schools all \n",
      " students ( 2897 , 7 - 13 years old ) were screened based on their body mass index ( bmi ) by nutritionists . according to convenience method all \n",
      " students divided to two groups based on their economic situation ; family revenue and head of household 's job and nutrition situation ; the first group were poor and malnourished students and the other group were well nourished or well - off students . \n",
      " for this report , the children 's height and weight were entered into center for disease control and prevention ( cdc ) to calculate bmi and bmi - for - age z - scores based on cdc for diseases control and prevention and growth standards . \n",
      " the significance of the difference between proportions was calculated using two - tailed z - tests for independent proportions . for implementing the interventions , \n",
      " weight was to the nearest 0.1 kg on a balance scale ( model # seca scale ) . \n",
      " standing height was measured to the nearest 0.1 cm with a wall - mounted stadiometer . \n",
      " advocacy group formation : this step was started with stakeholder analysis and identifying the stakeholders . \n",
      " the team was formed with representatives of all stakeholders include ; education organization , welfare organization , deputy for health of shiraz university , food and cosmetic product supervisory office and several non - governmental organizations and charities . situation analysis : this was carried out by use of existing data such as formal report of organizations , literature review and focus group with experts . \n",
      " the prevalence of malnutrition and its related factors among students was determined and weaknesses and strengths of the nffp were analyzed . \n",
      " accordingly , three sub - groups were established : research and evaluation , education and justification and executive group . designing the strategies : \n",
      " three strategies were identified ; education and justification campaign , nutritional intervention ( providing nutritious , safe and diverse snacks ) and networking . performing the interventions : interventions that were implementing in selected schools were providing a diverse and nutritious snack package along with nutrition education for both groups while the first group ( poor and malnourished students ) was utilized the package free of charge . duration of intervention was 6 months . \n",
      " education and justification intervention : regarding the literature review and expert opinion , an educational group affiliated with the advocacy team has prepared educational booklets about nutritional information for each level ( degree ) . \n",
      " accordingly , education of these booklets has been integrated into regular education of students and they educated and justified for better nutrition life - style . obviously , student 's families had remarkable effect on children 's food habit . \n",
      " it leads the educational group to hold several meeting with the student 's parents to justify them about the project and its benefit for their children . \n",
      " after these meetings , parental desire for participation in the project illustrated the effectiveness of the justification meeting with them . \n",
      " educate fifteen talk show programs in tv and radio , 12 published papers in the local newspaper , have implemented to mobilize the community and gain their support . \n",
      " healthy diet , the importance of breakfast and snack in adolescence , wrong food habits among school age children , role of the family to improve food habit of children were the main topics , in which media campaign has focused on . \n",
      " nutritional intervention : the snack basket of the students was replaced with traditional , nutritious and diverse foods . in general , the new snack package in average has provided 380 kcal energy , 15 g protein along with sufficient calcium and iron . \n",
      " low economic and malnourished children were supported by executive group affiliated with advocacy team and the rest of them prepare their snack by themselves . \n",
      " research and evaluation : in this step , the literacy and anthropometric indices ( bmi ) of students were assessed before and after the interventions . \n",
      " the reference for anthropometric measures was the world health organization / national center for health statistics ( who / nchs ) standards and the cut - offs were - two standard deviations ( sd ) from the mean . \n",
      " each student that was malnourished and poor has been taken into account for free food and nutritious snacks . \n",
      " demographic information , height , weight and knowledge of the students were measured by use of a validated and reliable ( cronbach 's alpha was 0.61 ) questionnaire . \n",
      " this project is granted by shiraz university of medical sciences , charities and welfare organization and education organization of fars province . \n",
      " advocacy group formation : this step was started with stakeholder analysis and identifying the stakeholders . \n",
      " the team was formed with representatives of all stakeholders include ; education organization , welfare organization , deputy for health of shiraz university , food and cosmetic product supervisory office and several non - governmental organizations and charities . \n",
      " situation analysis : this was carried out by use of existing data such as formal report of organizations , literature review and focus group with experts . \n",
      " the prevalence of malnutrition and its related factors among students was determined and weaknesses and strengths of the nffp were analyzed . \n",
      " accordingly , three sub - groups were established : research and evaluation , education and justification and executive group . \n",
      " designing the strategies : three strategies were identified ; education and justification campaign , nutritional intervention ( providing nutritious , safe and diverse snacks ) and networking . \n",
      " performing the interventions : interventions that were implementing in selected schools were providing a diverse and nutritious snack package along with nutrition education for both groups while the first group ( poor and malnourished students ) was utilized the package free of charge . \n",
      " education and justification intervention : regarding the literature review and expert opinion , an educational group affiliated with the advocacy team has prepared educational booklets about nutritional information for each level ( degree ) . \n",
      " accordingly , education of these booklets has been integrated into regular education of students and they educated and justified for better nutrition life - style . obviously , student 's families had remarkable effect on children 's food habit . \n",
      " it leads the educational group to hold several meeting with the student 's parents to justify them about the project and its benefit for their children . \n",
      " after these meetings , parental desire for participation in the project illustrated the effectiveness of the justification meeting with them . \n",
      " educate fifteen talk show programs in tv and radio , 12 published papers in the local newspaper , have implemented to mobilize the community and gain their support . \n",
      " healthy diet , the importance of breakfast and snack in adolescence , wrong food habits among school age children , role of the family to improve food habit of children were the main topics , in which media campaign has focused on . nutritional intervention : the snack basket of the students \n",
      " was replaced with traditional , nutritious and diverse foods . in general , the new snack package in average has provided 380 kcal energy , 15 g protein along with sufficient calcium and iron . \n",
      " low economic and malnourished children were supported by executive group affiliated with advocacy team and the rest of them prepare their snack by themselves . \n",
      " research and evaluation : in this step , the literacy and anthropometric indices ( bmi ) of students were assessed before and after the interventions . \n",
      " the reference for anthropometric measures was the world health organization / national center for health statistics ( who / nchs ) standards and the cut - offs were - two standard deviations ( sd ) from the mean . \n",
      " each student that was malnourished and poor has been taken into account for free food and nutritious snacks . \n",
      " demographic information , height , weight and knowledge of the students were measured by use of a validated and reliable ( cronbach 's alpha was 0.61 ) questionnaire . \n",
      " this project is granted by shiraz university of medical sciences , charities and welfare organization and education organization of fars province . \n",
      " statistical analyses were performed using the statistical package for the social sciences ( spss ) software , version 17.0 ( spss inc . , chicago , il , usa ) . \n",
      " the results are expressed as mean  sd and proportions as appropriated . in order to determine the effective variables on the malnutrition status \n",
      " paired t test was used to compare the end values with baseline ones in each group . \n",
      " two - sided p < 0.05 was considered to be statistically significant . in this project , \n",
      " the who z - score cut - offs used were as follow : using bmi - for - age z - scores ; overweight : > + 1 sd , i.e. , z - score > 1 ( equivalent to bmi 25 kg / m ) , obesity : > + 2 sd ( equivalent to bmi 30 \n",
      " kg / m ) , thinness : < 2 sd and severe thinness : < 3 sd . \n",
      " study population contains 2897 children ; 70.8% were primary school students and 29.2% were secondary school students . \n",
      " 2336 ( 80.5% ) out of total students were well - off and 561 children ( 19.5% ) were indigent . \n",
      " 19.5% of subjects were in case group ( n = 561 ) and 80.5% were in the control group ( n = 2336 ) . \n",
      " the mean of age in welfare group was 10.0  2.3 and 10.5  2.5 in non - welfare group . \n",
      " demographic characteristics of school aged children in shiraz , iran table 2 shows the frequency of subjects in different categories of bmi for age in non - welfare and welfare groups of school aged children separately among boys and girls before and after a nutrition intervention based on advocacy process model in shiraz , iran . \n",
      " the frequency of subjects with bmi lower than < 2 sd decreased significantly after intervention among non - welfare girls ( p < 0.01 ) . \n",
      " however , there were no significant decreases in the frequency of subjects with bmi lower than < 2 sd boys . \n",
      " when we assess the effect of intervention in total population without separating by sex groups , we found no significant change in this population [ table 3 ] . \n",
      " bmi for age for iranian students aged 7 - 14 years based on gender according to who growth standards 2007 bmi for age for iranian students aged 7 - 14 years according to who growth standards 2007 in non - welfare and welfare groups of total population table 4 has shown the prevalence of normal bmi , mild , moderate and severe malnutrition in non - welfare and welfare groups of school aged children separately among boys and girls before and after a nutrition intervention based on advocacy process model . according to this table \n",
      " there were no significant differences in the prevalence of mild , moderate and severe malnutrition among girls and boys . \n",
      " table 4 also shows the mean of all anthropometric indices changed significantly after intervention both among girls and boys . \n",
      " the pre- and post - test education assessment in both groups showed that the student 's average knowledge score has been significantly increased from 12.5  3.2 to 16.8  4.3 ( p < 0.0001 ) . \n",
      " bmi , height and weight in non - welfare and welfare groups of school aged children separately in males and females before and after a nutrition intervention based on advocacy process model in shiraz , iran according to study 's finding the odds ratio ( or ) of sever thinness and thinness in non - welfare compared with welfare is 3.5 ( or = 3.5 , confidence interval [ ci ] = 2.5 - 3.9 , p < 0.001 ) . \n",
      " furthermore , the finding showed or of overweight and obesity in welfare compared to non - welfare is 19.3 ( or = 19.3 , ci = 2.5 - 3.9 , p = 0.04 ) . \n",
      " the result of this community intervention study revealed that nutrition intervention based on advocacy program had been successful to reduce the prevalence of underweight among poor girls . \n",
      " this study shows determinant factor of nutritional status of school age children was their socio - economic level . according to our knowledge , \n",
      " this is the first study , which determines the effect of a community intervention based on advocacy process on the malnutrition indices in a big city ( shiraz ) in iran . \n",
      " the other program in iran ( nffp ) is specified to deprived area and is not conducted in big cities . \n",
      " allocating millions of dollars to nffp by government , selecting the malnourished students through an active screening system at primary and middle schools , paying attention of policy makers to student 's nutrition have provided the opportunity to combat the problem . however , negligence of under - poverty line , providing poor snacks in terms of nutritional value and lack of variety are the main defects of this program . \n",
      " advocacy by definition is a blending of science , ethics and politics for comprehensive approaching health issues . by using advocacy program in california among the high school students for improving their nutrition and physical activity \n",
      " angeles unified school district participants emphasized on nutrition classes for families as well as students in addition to other interventions . in the present study \n",
      " another study revealed that evaluability assessment gave stakeholders the opportunity to reflect on the project and its implementation issues . \n",
      " it seems that in iran , free food program among the students not only is needed in deprived areas , but also it should be performed in big cities such as shiraz . at baseline , \n",
      " no significant difference was founded among wealthy students between the pre- and post - nutritional status intervention . \n",
      " in contrast , the numbers of students who have malnutrition decreased from 44% to 39.4% , which was identified as a significant among impecunious girls students . \n",
      " there was also a significant increase in the proportion of children with bmi that was normal for age ( 2 to + 1 sd ) most of the published community interventions showed better results among females compared with males . \n",
      " this difference in the impact of nutritional interventions between male and female might be related to the different age of puberty in the female population compared to the male population . in the age range of the present study female \n",
      " although , there is no nffp in big cities of iran , there are some programs for improving the nutritional status such as providing free milk in schools . \n",
      " a recent publication has shown that school feeding programs focus on milk supplementation had beneficial effects on the physical function and school performances specifically among girls in iran . \n",
      " the results of the mentioned study showed an improvement in the weight of children , psychological test 's scores and the grade - point average following this school feeding program . \n",
      " the intervention in the present study had focused on the snack intake in the school time . \n",
      " there are some reports regarding the nutrition transition in iran , which shows the importance of nutrition intervention to provide more healthy eating dietary habits among welfare groups of adolescents . \n",
      " hence , nutrition intervention especially in the form of nutrition education is needed in big cities and among welfare children and adolescents . although a study among iranian adolescents showed that dietary behavior of adolescents does not accord to their knowledge , which emphasize on the necessity of community intervention programs . a recent study regarding the major dietary pattern among iranian children showed the presence of four major dietary patterns , in which fast food pattern and sweet pattern as two major dietary patterns can be mentioned among iranian children . in advocacy program audience 's analysis \n",
      " accordingly , one of the prominent strategies in this study was working with media and was meeting with parent - teacher association that both of them were secondary target audiences \n",
      " . we also took into account policy makers in different levels , from national to local as primary audiences . \n",
      " advocacy team had several meetings with management and planning organization at national level and education organization of the fars province as well as principal of the targeted schools . \n",
      " providing nutritious snacks need contribution of private sector such as food industries or factories , but their benefits should be warranted . \n",
      " another choice was community involvement ; which can be achieved by female health volunteers who are working with the health system . \n",
      " advocacy team by using the support of charities and female health volunteers could establish a local factory that produced student 's snacks based on the new definition . however , there are some challenges on the way of expanding this program . \n",
      " mass production of the proposed snacks according to different desires and cultures and getting involvement of food industries with respect to marketing issues is one of those challenges . \n",
      " moreover , providing a supportive environment in order to change the food habits of the students and their parents among the wide range of the population require a sustainable and continuous inter - sector collaboration . \n",
      " although in a limited number of schools , in our study , interventions and advocacy program was successful , expanding this model to another areas around the country depends on convincing the policy makers at national level . in this \n",
      " regard , advocacy team should prepare evidenced based profile and transitional planning to convince the policy makers for improving the rule and regulation of nffp . \n",
      " the same as this study in other studies have also emphasized that there must be efforts to strengthen the capacity within the schools to deal with the nutritional problems either overweight , obesity or malnutrition by using of educational and nutritional intervention . \n",
      " assessing the dietary adherence is very important in nutrition intervention among population . as this population was children and adolescents we had a limitation in the blood sample collection to assess the subject 's dietary adherence . \n",
      " furthermore , this intervention was only focused on the intake of snack in school time and we did not have comprehensive information on the dietary intake of children and adolescents after school all over the day . \n",
      " the investigators propose further investigation in different areas of the country based on socio - cultural differences in order to make necessary modification and adapt this model to other areas . \n",
      " regarding the nutritional needs of the school age children , provision of a good platform for implementing and expanding this efficient model to the whole country based upon the socio - economic situation of each region is advisable to the moh and the moe . \n",
      " community nutrition intervention based on the advocacy process model is effective on reducing the prevalence of underweight specifically among female school aged children .\n"
     ]
    }
   ],
   "source": [
    "from datasets import load_dataset\n",
    "dataset = load_dataset(\"ccdv/pubmed-summarization\")\n",
    "essay = dataset['train'][0]['article']\n",
    "print(essay)"
   ]
  },
  {
   "cell_type": "code",
   "execution_count": 16,
   "id": "4bf80a98-b756-4a14-885f-25a52afc9811",
   "metadata": {
    "tags": []
   },
   "outputs": [],
   "source": [
    "from langchain.chains.summarize import load_summarize_chain\n",
    "from langchain.text_splitter import RecursiveCharacterTextSplitter"
   ]
  },
  {
   "cell_type": "code",
   "execution_count": 56,
   "id": "d7b991fc-b213-4d7f-a9c4-2347b13d8872",
   "metadata": {
    "tags": []
   },
   "outputs": [
    {
     "data": {
      "text/plain": [
       "5505"
      ]
     },
     "execution_count": 56,
     "metadata": {},
     "output_type": "execute_result"
    }
   ],
   "source": [
    "sm_llm.get_num_tokens(essay)"
   ]
  },
  {
   "cell_type": "markdown",
   "id": "e21b6fa0-d43d-47bf-9b31-efe1d58ed95e",
   "metadata": {},
   "source": [
    "That's too many, let's split our text up into chunks so they fit into the prompt limit. I'm going a chunk size of 2,000 characters. \n",
    "\n",
    "> You can think of tokens as pieces of words used for natural language processing. For English text, **1 token is approximately 4 characters** or 0.75 words. As a point of reference, the collected works of Shakespeare are about 900,000 words or 1.2M tokens.\n",
    "\n",
    "This means the number of tokens we should expect is 2,000 / 4 = ~500 token chunks. But this will vary, each body of text/code will be different."
   ]
  },
  {
   "cell_type": "code",
   "execution_count": 64,
   "id": "e4782136-d2bd-41c6-bf9d-78b5efb3e0f7",
   "metadata": {
    "tags": []
   },
   "outputs": [],
   "source": [
    "text_splitter = RecursiveCharacterTextSplitter(separators=[\"\\n\\n\", \"\\n\"], chunk_size=2000, chunk_overlap=500)\n",
    "\n",
    "docs = text_splitter.create_documents([essay])"
   ]
  },
  {
   "cell_type": "code",
   "execution_count": 65,
   "id": "3186a918-89ea-478a-b958-46aae447bf1f",
   "metadata": {
    "tags": []
   },
   "outputs": [
    {
     "name": "stdout",
     "output_type": "stream",
     "text": [
      "Now we have 19 documents and the first one has 403 tokens\n"
     ]
    }
   ],
   "source": [
    "num_docs = len(docs)\n",
    "\n",
    "num_tokens_first_doc = sm_llm.get_num_tokens(docs[0].page_content)\n",
    "\n",
    "print (f\"Now we have {num_docs} documents and the first one has {num_tokens_first_doc} tokens\")"
   ]
  },
  {
   "cell_type": "markdown",
   "id": "74d06706-a5b6-43e6-bd79-b77f7b159693",
   "metadata": {},
   "source": [
    "Great, assuming that number of tokens is consistent in the other docs we should be good to go. Let's use LangChain's [load_summarize_chain](https://python.langchain.com/en/latest/use_cases/summarization.html) method, we will use `refine` chain type for summarization. We first need to initialize our chain"
   ]
  },
  {
   "cell_type": "markdown",
   "id": "2072ddf5-4fdf-4df5-9ac5-503c06578c04",
   "metadata": {},
   "source": [
    "Our document is pretty large and has 19 chunks, so lets pick the first few chunks and try to summarize them using LangChain's load_summarize_chain."
   ]
  },
  {
   "cell_type": "code",
   "execution_count": 59,
   "id": "f95ff5b9-7339-4052-9e36-6ac2ee5383c8",
   "metadata": {
    "tags": []
   },
   "outputs": [],
   "source": [
    "summary_chain = load_summarize_chain(llm=sm_llm, chain_type='map_reduce',\n",
    "                                     verbose=True # Set verbose=True if you want to see the prompts being used\n",
    "                                    )"
   ]
  },
  {
   "cell_type": "code",
   "execution_count": 60,
   "id": "9807e202-ab77-4e5e-bfe6-e9244e3d2c7a",
   "metadata": {
    "scrolled": true,
    "tags": []
   },
   "outputs": [
    {
     "name": "stdout",
     "output_type": "stream",
     "text": [
      "\n",
      "\n",
      "\u001b[1m> Entering new MapReduceDocumentsChain chain...\u001b[0m\n",
      "\n",
      "\n",
      "\u001b[1m> Entering new LLMChain chain...\u001b[0m\n",
      "Prompt after formatting:\n",
      "\u001b[32;1m\u001b[1;3mWrite a concise summary of the following:\n",
      "\n",
      "\n",
      "\"a recent systematic analysis showed that in 2011 , 314 ( 296 - 331 ) million children younger than 5 years were mildly , moderately or severely stunted and 258 ( 240 - 274 ) million were mildly , moderately or severely underweight in the developing countries . \n",
      " in iran a study among 752 high school girls in sistan and baluchestan showed prevalence of 16.2% , 8.6% and 1.5% , for underweight , overweight and obesity , respectively . \n",
      " the prevalence of malnutrition among elementary school aged children in tehran varied from 6% to 16% . \n",
      " anthropometric study of elementary school students in shiraz revealed that 16% of them suffer from malnutrition and low body weight . \n",
      " snack should have 300 - 400 kcal energy and could provide 5 - 10 g of protein / day . nowadays , school nutrition programs are running as the national programs , world - wide . national school lunch program in the united states \n",
      " there are also some reports regarding school feeding programs in developing countries . in vietnam , \n",
      " school base program showed an improvement in nutrient intakes . in iran a national free food program ( nffp ) \n",
      " is implemented in elementary schools of deprived areas to cover all poor students . however , this program is not conducted in slums and poor areas of the big cities so many malnourished children with low socio - economic situation are not covered by nffp . although the rate of poverty in areas known as deprived is higher than other areas , many students in deprived areas are not actually poor and can afford food . \n",
      " hence , nutritional value of the nffp is lower than the scientific recommended snacks for this age group . \n",
      " furthermore , lack of variety of food packages has decreased the tendency of children toward nffp . on the other hand , \n",
      " the most important one is ministry of education ( moe ) of iran , which is responsible for selecting and providing the packages for targeted schools .\"\n",
      "\n",
      "\n",
      "CONCISE SUMMARY:\u001b[0m\n",
      "Prompt after formatting:\n",
      "\u001b[32;1m\u001b[1;3mWrite a concise summary of the following:\n",
      "\n",
      "\n",
      "\"hence , nutritional value of the nffp is lower than the scientific recommended snacks for this age group . \n",
      " furthermore , lack of variety of food packages has decreased the tendency of children toward nffp . on the other hand , \n",
      " the most important one is ministry of education ( moe ) of iran , which is responsible for selecting and providing the packages for targeted schools . \n",
      " the ministry of health ( moh ) is supervising the health situation of students and their health needs . \n",
      " welfare organizations , along with charities , have the indirect effect on nutritional status of students by financial support of their family . \n",
      " provincial governors have also the role of coordinating and supervising all activities of these organizations . \n",
      " parent - teacher association is a community - based institution that participates in school 's policy such as nffp . \n",
      " in addition to these organizations , nutritional literacy of students , their parents and teachers , is a very important issue , which could affect nutritional status of school age children . \n",
      " therefore , the present study was conducted with the aim of improving the nffp , so that by its resources all poor children will be covered even in big cities . \n",
      " moreover , all food packages were replaced by nutritious and diverse packages that were accessible for non - poor children . according to the aim of this study and multiple factors that could affect the problem , \n",
      " public health advocacy has been chosen as the best strategy to deal with this issue . \n",
      " therefore , the present study determines the effects of nutrition intervention in an advocacy process model on the prevalence of underweight in school aged children in the poor area of shiraz , iran . \n",
      " this interventional study has been carried out between 2009 and 2010 in shiraz , iran . \n",
      " this survey was approved by the research committee of shiraz university of medical sciences . in coordination with education organization of fars province\"\n",
      "\n",
      "\n",
      "CONCISE SUMMARY:\u001b[0m\n",
      "Prompt after formatting:\n",
      "\u001b[32;1m\u001b[1;3mWrite a concise summary of the following:\n",
      "\n",
      "\n",
      "\"therefore , the present study determines the effects of nutrition intervention in an advocacy process model on the prevalence of underweight in school aged children in the poor area of shiraz , iran . \n",
      " this interventional study has been carried out between 2009 and 2010 in shiraz , iran . \n",
      " this survey was approved by the research committee of shiraz university of medical sciences . in coordination with education organization of fars province \n",
      " two elementary schools and one middle school in the third region of the urban area of shiraz were selected randomly . in those schools all \n",
      " students ( 2897 , 7 - 13 years old ) were screened based on their body mass index ( bmi ) by nutritionists . according to convenience method all \n",
      " students divided to two groups based on their economic situation ; family revenue and head of household 's job and nutrition situation ; the first group were poor and malnourished students and the other group were well nourished or well - off students . \n",
      " for this report , the children 's height and weight were entered into center for disease control and prevention ( cdc ) to calculate bmi and bmi - for - age z - scores based on cdc for diseases control and prevention and growth standards . \n",
      " the significance of the difference between proportions was calculated using two - tailed z - tests for independent proportions . for implementing the interventions , \n",
      " the advocacy process model weight was to the nearest 0.1 kg on a balance scale ( model # seca scale ) . \n",
      " standing height was measured to the nearest 0.1 cm with a wall - mounted stadiometer . \n",
      " advocacy group formation : this step was started with stakeholder analysis and identifying the stakeholders .\"\n",
      "\n",
      "\n",
      "CONCISE SUMMARY:\u001b[0m\n",
      "Prompt after formatting:\n",
      "\u001b[32;1m\u001b[1;3mWrite a concise summary of the following:\n",
      "\n",
      "\n",
      "\"the significance of the difference between proportions was calculated using two - tailed z - tests for independent proportions . for implementing the interventions , \n",
      " the advocacy process model weight was to the nearest 0.1 kg on a balance scale ( model # seca scale ) . \n",
      " standing height was measured to the nearest 0.1 cm with a wall - mounted stadiometer . \n",
      " advocacy group formation : this step was started with stakeholder analysis and identifying the stakeholders . \n",
      " the team was formed with representatives of all stakeholders include ; education organization , welfare organization , deputy for health of shiraz university , food and cosmetic product supervisory office and several non - governmental organizations and charities . situation analysis : this was carried out by use of existing data such as formal report of organizations , literature review and focus group with experts . \n",
      " the prevalence of malnutrition and its related factors among students was determined and weaknesses and strengths of the nffp were analyzed . \n",
      " accordingly , three sub - groups were established : research and evaluation , education and justification and executive group . designing the strategies : \n",
      " three strategies were identified ; education and justification campaign , nutritional intervention ( providing nutritious , safe and diverse snacks ) and networking . performing the interventions : interventions that were implementing in selected schools were providing a diverse and nutritious snack package along with nutrition education for both groups while the first group ( poor and malnourished students ) was utilized the package free of charge . \n",
      " education and justification intervention : regarding the literature review and expert opinion , an educational group affiliated with the advocacy team has prepared educational booklets about nutritional information for each level ( degree ) .\"\n",
      "\n",
      "\n",
      "CONCISE SUMMARY:\u001b[0m\n",
      "Prompt after formatting:\n",
      "\u001b[32;1m\u001b[1;3mWrite a concise summary of the following:\n",
      "\n",
      "\n",
      "\"education and justification intervention : regarding the literature review and expert opinion , an educational group affiliated with the advocacy team has prepared educational booklets about nutritional information for each level ( degree ) . \n",
      " accordingly , education of these booklets has been integrated into regular education of students and they educated and justified for better nutrition life - style . \n",
      " it leads the educational group to hold several meeting with the student 's parents to justify them about the project and its benefit for their children . \n",
      " after these meetings , parental desire for participation in the project illustrated the effectiveness of the justification meeting with them . \n",
      " for educate fifteen talk show programs in tv and radio , 12 published papers in the local newspaper , have implemented to mobilize the community and gain their support . \n",
      " healthy diet , the importance of breakfast and snack in adolescence , wrong food habits among school age children , role of the family to improve food habit of children were the main topics , in which media campaign has focused on . \n",
      " nutritional intervention : the snack basket of the students was replaced with traditional , nutritious and diverse foods . in general , the new snack package in average has provided 380 kcal energy , 15 g protein along with sufficient calcium and iron . \n",
      " low economic and malnourished children were supported by executive group affiliated with advocacy team and the rest of them prepare their snack by themselves . \n",
      " research and evaluation : in this step , the literacy and anthropometric indices ( bmi ) of students were assessed before and after the interventions . \n",
      " the reference for anthropometric measures was the world health organization / national center for health statistics ( who / nchs ) standards and the cut - offs were - two standard deviations ( sd ) from the mean .\"\n",
      "\n",
      "\n",
      "CONCISE SUMMARY:\u001b[0m\n",
      "\n",
      "\u001b[1m> Finished chain.\u001b[0m\n",
      "\n",
      "\n",
      "\u001b[1m> Entering new LLMChain chain...\u001b[0m\n",
      "Prompt after formatting:\n",
      "\u001b[32;1m\u001b[1;3mWrite a concise summary of the following:\n",
      "\n",
      "\n",
      "\"\n",
      "In 2011, 314 million children younger than 5 years were mildly, moderately, or severely stunted, and 258 million were underweight in developing countries. In Iran, 16.2% of high school girls were underweight, and 8.6% and 1.5% of elementary school children were underweight and overweight, respectively. A national free food program was implemented in Vietnam, but not in deprived areas, and the nutritional value of the program was\n",
      "\n",
      "\n",
      "The aim of the present study was to determine the effects of nutrition intervention in an advocacy process model on the prevalence of underweight in school-aged children in a poor area of Shiraz, Iran. The study was conducted in 2009-2010 and was approved by the research committee of Shiraz University of Medical Sciences.\n",
      "\n",
      "\n",
      "This study aims to determine the effects of nutrition intervention in an advocacy process model on the prevalence of underweight in school-aged children in a poor area of Shiraz, Iran. The study was conducted between 2009 and 2010, with a sample of 2897 students aged 7-13 years old. The children were screened based on their body mass index (BMI) by nutritionists. The study also divided the students into two groups based on their economic situation and\n",
      "\n",
      "\n",
      "The study aimed to develop a comprehensive advocacy model for addressing malnutrition among students in Shiraz, Iran. The study utilized mixed methods including a review of literature, a stakeholder analysis, and focus groups to identify the key factors affecting malnutrition among students. The study also involved the implementation of interventions including the provision of a diverse and nutritious snack package and nutrition education. The study found that the prevalence of malnutrition among students was high, with a majority of students being malnourished or undernourished.\n",
      "\n",
      "\n",
      "The project involved educating students about nutrition and developing a healthy eating habit. The project was implemented through a series of meetings, parental workshops, and educational materials. The project was evaluated using anthropometric indices and the literacy and anthropometric indices of students were assessed before and after the intervention. The project was successful in increasing parental participation, providing nutritious snacks, and improving the nutritional habits of students.\"\n",
      "\n",
      "\n",
      "CONCISE SUMMARY:\u001b[0m\n",
      "\n",
      "\u001b[1m> Finished chain.\u001b[0m\n",
      "\n",
      "\u001b[1m> Finished chain.\u001b[0m\n"
     ]
    }
   ],
   "source": [
    "output = summary_chain.run(docs[:5])"
   ]
  },
  {
   "cell_type": "code",
   "execution_count": 62,
   "id": "9acc08a7-d9d7-4dc9-9abe-46e80a950820",
   "metadata": {
    "tags": []
   },
   "outputs": [
    {
     "name": "stdout",
     "output_type": "stream",
     "text": [
      "The present study aimed to determine the effects of nutrition intervention in an advocacy process model on the prevalence of underweight in school-aged children in a poor area of Shiraz, Iran. The study was conducted in 2009-2010 and was approved by the research committee of Shiraz University of Medical Sciences. The study found that the prevalence of malnutrition among students was high, with a majority of students being malnourished or undernourished. The project was successful in increasing\n"
     ]
    }
   ],
   "source": [
    "print(output.strip())"
   ]
  },
  {
   "cell_type": "markdown",
   "id": "75a35f4a-2e49-41ca-96bb-d7909ccc847c",
   "metadata": {},
   "source": [
    "---\n",
    "This summary is a great start, but since we took partial text our resulting summary isn't great and is left incomplete. This can be solved with a bit of prompt engineering but ideally we would like to summarize the whole document. So, lets modify to summarize the entire document and get only the key points as the final summary.\n",
    "\n",
    "In order to do this we will use custom prompts (like we did above) to instruct the model on what we need. But this time, instead of using just 5 chunks of the given document, we will use all chunks of the documents and use a MapReduce Summary chain from LangChain and our Falcon model hosted in SageMaker.\n",
    "\n",
    "We will Summarize the document using LangChain MapReduce summary chain\n",
    "\n",
    "- We will first generate summaries of the smaller chunks (map)\n",
    "- Then we will generate a narrative using the generated summaries (reduce)\n",
    "- Then we will use the shortened narrative to generate final key themes, summary of the document."
   ]
  },
  {
   "cell_type": "code",
   "execution_count": 66,
   "id": "1ce45dbd-72bd-4adc-957f-8b69d20987da",
   "metadata": {
    "tags": []
   },
   "outputs": [],
   "source": [
    "from langchain.chains.mapreduce import MapReduceChain\n",
    "from langchain.text_splitter import CharacterTextSplitter\n",
    "from langchain.chains import ReduceDocumentsChain, MapReduceDocumentsChain\n",
    "from langchain.chains.combine_documents.stuff import StuffDocumentsChain\n",
    "\n",
    "llm =SagemakerEndpoint(\n",
    "        endpoint_name=endpoint_name, \n",
    "        region_name=aws_region,\n",
    "        model_kwargs={\"do_sample\": True,\n",
    "                                    \"top_p\": 0.9,\n",
    "                                    \"temperature\": 0.8,\n",
    "                                    \"max_new_tokens\":  100,\n",
    "                                    \"stop\": [\"<|endoftext|>\", \"</s>\"]},\n",
    "        content_handler=content_handler\n",
    "    )"
   ]
  },
  {
   "cell_type": "markdown",
   "id": "ebcc30af-9a69-44a9-83b7-f4c3ac538fd7",
   "metadata": {},
   "source": [
    "Let's define the Map chain that will generate summaries of each of the 30 chunks. In this case, you can see that it is just a regular LLMChain with a simple summary prompt. This is because we simply want to run summary on each of the indovidual chunks of text."
   ]
  },
  {
   "cell_type": "code",
   "execution_count": 67,
   "id": "59da55b6-f062-4d31-8065-a3a403cef931",
   "metadata": {
    "tags": []
   },
   "outputs": [],
   "source": [
    "# Map\n",
    "map_template = \"\"\"Given the following text, write a short summary.\n",
    "\n",
    "Text: {docs}\n",
    "Summary: \"\"\"\n",
    "\n",
    "map_prompt = PromptTemplate.from_template(map_template)\n",
    "map_chain = LLMChain(llm=llm, prompt=map_prompt)"
   ]
  },
  {
   "cell_type": "markdown",
   "id": "a5714e10-6c35-4bb5-91bb-1d295520eba3",
   "metadata": {},
   "source": [
    "We then define the reduce chain. The purpose of this chain is to take all the generated summaries (by the map chain) and generate a single final summary."
   ]
  },
  {
   "cell_type": "code",
   "execution_count": 68,
   "id": "985bf702-17c8-4890-b5a5-87ec20e2619c",
   "metadata": {
    "tags": []
   },
   "outputs": [],
   "source": [
    "# Reduce\n",
    "reduce_template = \"\"\"The following is set of summaries. Take these and distill it into a final, consolidated summary of the main themes. \n",
    "\n",
    "Text: {doc_summaries}\n",
    "Summary: \"\"\"\n",
    "\n",
    "reduce_prompt = PromptTemplate.from_template(reduce_template)\n",
    "reduce_chain = LLMChain(llm=llm, prompt=reduce_prompt)"
   ]
  },
  {
   "cell_type": "markdown",
   "id": "391ce736-cfab-4dd6-94af-5fb56147b075",
   "metadata": {},
   "source": [
    "We then define a chain that combines all the generated summaries from the Map chain, subsequently pass it to the Reduce chain"
   ]
  },
  {
   "cell_type": "code",
   "execution_count": 69,
   "id": "6b959606-0d1f-44d8-a6a7-d401c1ce6abf",
   "metadata": {
    "tags": []
   },
   "outputs": [],
   "source": [
    "# Takes a list of documents, combines them into a single string, and passes this to an LLMChain\n",
    "combine_documents_chain = StuffDocumentsChain(\n",
    "    llm_chain=reduce_chain, document_variable_name=\"doc_summaries\"\n",
    ")\n",
    "\n",
    "# Combines and iteravely reduces the mapped documents\n",
    "reduce_documents_chain = ReduceDocumentsChain(\n",
    "    # This is final chain that is called.\n",
    "    combine_documents_chain=combine_documents_chain,\n",
    "    # If documents exceed context for `StuffDocumentsChain`\n",
    "    collapse_documents_chain=combine_documents_chain,\n",
    "    # The maximum number of tokens to group documents into.\n",
    "    token_max=1000,\n",
    ")"
   ]
  },
  {
   "cell_type": "markdown",
   "id": "1e0a0e9d-8526-426d-8452-cf9d131616f0",
   "metadata": {},
   "source": [
    "Finally we define the overall MapReduceDocumentsChain. This chain takes care of executing all the chains we have defined so far, passing the output(s) from one to the other to  generate the final summary. If you want to be able to see each of the steps as they execute, you can pass `verbose = True` in the `map_chain` and the `reduce_chain` initializations above. For this exercise we kept it default to False, but feel free to change it and execute."
   ]
  },
  {
   "cell_type": "code",
   "execution_count": 70,
   "id": "3ffd55ca-6338-488a-9b03-215eeb5a9852",
   "metadata": {
    "tags": []
   },
   "outputs": [],
   "source": [
    "# Combining documents by mapping a chain over them, then combining results\n",
    "map_reduce_chain = MapReduceDocumentsChain(\n",
    "    # Map chain\n",
    "    llm_chain=map_chain,\n",
    "    # Reduce chain\n",
    "    reduce_documents_chain=reduce_documents_chain,\n",
    "    # The variable name in the llm_chain to put the documents in\n",
    "    document_variable_name=\"docs\",\n",
    "    # Return the results of the map steps in the output\n",
    "    return_intermediate_steps=False,\n",
    ")"
   ]
  },
  {
   "cell_type": "code",
   "execution_count": 71,
   "id": "522c1dec-1592-4a27-abad-27cde3bbc1b4",
   "metadata": {
    "scrolled": true,
    "tags": []
   },
   "outputs": [
    {
     "name": "stdout",
     "output_type": "stream",
     "text": [
      "\n",
      "The study aimed to assess malnutrition and related factors among school-aged children in Shiraz, including providing nutritious snacks, educational interventions, and an advocacy group to form a stakeholders' network. Strategies also included replacing traditional snack baskets with nutritious and diverse options. Nutritional status was assessed using anthropometric indices. The main challenges in expanding the program include the need for a specific model for improving the nutritional status of children and adolescents.\n"
     ]
    }
   ],
   "source": [
    "# we have already split our document into chunks previously so we will use it now\n",
    "print(map_reduce_chain.run(docs))"
   ]
  },
  {
   "cell_type": "markdown",
   "id": "303812af-67c8-4839-9b70-b16e4abf56fa",
   "metadata": {},
   "source": [
    "# Cleanup\n",
    "---\n",
    "\n",
    "We have seen how we can deploy a Falcon 7b Instruct model using SageMaker Endpoint and use it with LangChain to perform small text and very large text summarizations. Let's delete the endpoint to avoid incurring additional cost."
   ]
  },
  {
   "cell_type": "code",
   "execution_count": null,
   "id": "fbb41280-9d57-4991-9670-ad330fc0f43c",
   "metadata": {},
   "outputs": [],
   "source": [
    "predictor.delete_model()\n",
    "predictor.delete_endpoint()"
   ]
  }
 ],
 "metadata": {
  "availableInstances": [
   {
    "_defaultOrder": 0,
    "_isFastLaunch": true,
    "category": "General purpose",
    "gpuNum": 0,
    "hideHardwareSpecs": false,
    "memoryGiB": 4,
    "name": "ml.t3.medium",
    "vcpuNum": 2
   },
   {
    "_defaultOrder": 1,
    "_isFastLaunch": false,
    "category": "General purpose",
    "gpuNum": 0,
    "hideHardwareSpecs": false,
    "memoryGiB": 8,
    "name": "ml.t3.large",
    "vcpuNum": 2
   },
   {
    "_defaultOrder": 2,
    "_isFastLaunch": false,
    "category": "General purpose",
    "gpuNum": 0,
    "hideHardwareSpecs": false,
    "memoryGiB": 16,
    "name": "ml.t3.xlarge",
    "vcpuNum": 4
   },
   {
    "_defaultOrder": 3,
    "_isFastLaunch": false,
    "category": "General purpose",
    "gpuNum": 0,
    "hideHardwareSpecs": false,
    "memoryGiB": 32,
    "name": "ml.t3.2xlarge",
    "vcpuNum": 8
   },
   {
    "_defaultOrder": 4,
    "_isFastLaunch": true,
    "category": "General purpose",
    "gpuNum": 0,
    "hideHardwareSpecs": false,
    "memoryGiB": 8,
    "name": "ml.m5.large",
    "vcpuNum": 2
   },
   {
    "_defaultOrder": 5,
    "_isFastLaunch": false,
    "category": "General purpose",
    "gpuNum": 0,
    "hideHardwareSpecs": false,
    "memoryGiB": 16,
    "name": "ml.m5.xlarge",
    "vcpuNum": 4
   },
   {
    "_defaultOrder": 6,
    "_isFastLaunch": false,
    "category": "General purpose",
    "gpuNum": 0,
    "hideHardwareSpecs": false,
    "memoryGiB": 32,
    "name": "ml.m5.2xlarge",
    "vcpuNum": 8
   },
   {
    "_defaultOrder": 7,
    "_isFastLaunch": false,
    "category": "General purpose",
    "gpuNum": 0,
    "hideHardwareSpecs": false,
    "memoryGiB": 64,
    "name": "ml.m5.4xlarge",
    "vcpuNum": 16
   },
   {
    "_defaultOrder": 8,
    "_isFastLaunch": false,
    "category": "General purpose",
    "gpuNum": 0,
    "hideHardwareSpecs": false,
    "memoryGiB": 128,
    "name": "ml.m5.8xlarge",
    "vcpuNum": 32
   },
   {
    "_defaultOrder": 9,
    "_isFastLaunch": false,
    "category": "General purpose",
    "gpuNum": 0,
    "hideHardwareSpecs": false,
    "memoryGiB": 192,
    "name": "ml.m5.12xlarge",
    "vcpuNum": 48
   },
   {
    "_defaultOrder": 10,
    "_isFastLaunch": false,
    "category": "General purpose",
    "gpuNum": 0,
    "hideHardwareSpecs": false,
    "memoryGiB": 256,
    "name": "ml.m5.16xlarge",
    "vcpuNum": 64
   },
   {
    "_defaultOrder": 11,
    "_isFastLaunch": false,
    "category": "General purpose",
    "gpuNum": 0,
    "hideHardwareSpecs": false,
    "memoryGiB": 384,
    "name": "ml.m5.24xlarge",
    "vcpuNum": 96
   },
   {
    "_defaultOrder": 12,
    "_isFastLaunch": false,
    "category": "General purpose",
    "gpuNum": 0,
    "hideHardwareSpecs": false,
    "memoryGiB": 8,
    "name": "ml.m5d.large",
    "vcpuNum": 2
   },
   {
    "_defaultOrder": 13,
    "_isFastLaunch": false,
    "category": "General purpose",
    "gpuNum": 0,
    "hideHardwareSpecs": false,
    "memoryGiB": 16,
    "name": "ml.m5d.xlarge",
    "vcpuNum": 4
   },
   {
    "_defaultOrder": 14,
    "_isFastLaunch": false,
    "category": "General purpose",
    "gpuNum": 0,
    "hideHardwareSpecs": false,
    "memoryGiB": 32,
    "name": "ml.m5d.2xlarge",
    "vcpuNum": 8
   },
   {
    "_defaultOrder": 15,
    "_isFastLaunch": false,
    "category": "General purpose",
    "gpuNum": 0,
    "hideHardwareSpecs": false,
    "memoryGiB": 64,
    "name": "ml.m5d.4xlarge",
    "vcpuNum": 16
   },
   {
    "_defaultOrder": 16,
    "_isFastLaunch": false,
    "category": "General purpose",
    "gpuNum": 0,
    "hideHardwareSpecs": false,
    "memoryGiB": 128,
    "name": "ml.m5d.8xlarge",
    "vcpuNum": 32
   },
   {
    "_defaultOrder": 17,
    "_isFastLaunch": false,
    "category": "General purpose",
    "gpuNum": 0,
    "hideHardwareSpecs": false,
    "memoryGiB": 192,
    "name": "ml.m5d.12xlarge",
    "vcpuNum": 48
   },
   {
    "_defaultOrder": 18,
    "_isFastLaunch": false,
    "category": "General purpose",
    "gpuNum": 0,
    "hideHardwareSpecs": false,
    "memoryGiB": 256,
    "name": "ml.m5d.16xlarge",
    "vcpuNum": 64
   },
   {
    "_defaultOrder": 19,
    "_isFastLaunch": false,
    "category": "General purpose",
    "gpuNum": 0,
    "hideHardwareSpecs": false,
    "memoryGiB": 384,
    "name": "ml.m5d.24xlarge",
    "vcpuNum": 96
   },
   {
    "_defaultOrder": 20,
    "_isFastLaunch": false,
    "category": "General purpose",
    "gpuNum": 0,
    "hideHardwareSpecs": true,
    "memoryGiB": 0,
    "name": "ml.geospatial.interactive",
    "supportedImageNames": [
     "sagemaker-geospatial-v1-0"
    ],
    "vcpuNum": 0
   },
   {
    "_defaultOrder": 21,
    "_isFastLaunch": true,
    "category": "Compute optimized",
    "gpuNum": 0,
    "hideHardwareSpecs": false,
    "memoryGiB": 4,
    "name": "ml.c5.large",
    "vcpuNum": 2
   },
   {
    "_defaultOrder": 22,
    "_isFastLaunch": false,
    "category": "Compute optimized",
    "gpuNum": 0,
    "hideHardwareSpecs": false,
    "memoryGiB": 8,
    "name": "ml.c5.xlarge",
    "vcpuNum": 4
   },
   {
    "_defaultOrder": 23,
    "_isFastLaunch": false,
    "category": "Compute optimized",
    "gpuNum": 0,
    "hideHardwareSpecs": false,
    "memoryGiB": 16,
    "name": "ml.c5.2xlarge",
    "vcpuNum": 8
   },
   {
    "_defaultOrder": 24,
    "_isFastLaunch": false,
    "category": "Compute optimized",
    "gpuNum": 0,
    "hideHardwareSpecs": false,
    "memoryGiB": 32,
    "name": "ml.c5.4xlarge",
    "vcpuNum": 16
   },
   {
    "_defaultOrder": 25,
    "_isFastLaunch": false,
    "category": "Compute optimized",
    "gpuNum": 0,
    "hideHardwareSpecs": false,
    "memoryGiB": 72,
    "name": "ml.c5.9xlarge",
    "vcpuNum": 36
   },
   {
    "_defaultOrder": 26,
    "_isFastLaunch": false,
    "category": "Compute optimized",
    "gpuNum": 0,
    "hideHardwareSpecs": false,
    "memoryGiB": 96,
    "name": "ml.c5.12xlarge",
    "vcpuNum": 48
   },
   {
    "_defaultOrder": 27,
    "_isFastLaunch": false,
    "category": "Compute optimized",
    "gpuNum": 0,
    "hideHardwareSpecs": false,
    "memoryGiB": 144,
    "name": "ml.c5.18xlarge",
    "vcpuNum": 72
   },
   {
    "_defaultOrder": 28,
    "_isFastLaunch": false,
    "category": "Compute optimized",
    "gpuNum": 0,
    "hideHardwareSpecs": false,
    "memoryGiB": 192,
    "name": "ml.c5.24xlarge",
    "vcpuNum": 96
   },
   {
    "_defaultOrder": 29,
    "_isFastLaunch": true,
    "category": "Accelerated computing",
    "gpuNum": 1,
    "hideHardwareSpecs": false,
    "memoryGiB": 16,
    "name": "ml.g4dn.xlarge",
    "vcpuNum": 4
   },
   {
    "_defaultOrder": 30,
    "_isFastLaunch": false,
    "category": "Accelerated computing",
    "gpuNum": 1,
    "hideHardwareSpecs": false,
    "memoryGiB": 32,
    "name": "ml.g4dn.2xlarge",
    "vcpuNum": 8
   },
   {
    "_defaultOrder": 31,
    "_isFastLaunch": false,
    "category": "Accelerated computing",
    "gpuNum": 1,
    "hideHardwareSpecs": false,
    "memoryGiB": 64,
    "name": "ml.g4dn.4xlarge",
    "vcpuNum": 16
   },
   {
    "_defaultOrder": 32,
    "_isFastLaunch": false,
    "category": "Accelerated computing",
    "gpuNum": 1,
    "hideHardwareSpecs": false,
    "memoryGiB": 128,
    "name": "ml.g4dn.8xlarge",
    "vcpuNum": 32
   },
   {
    "_defaultOrder": 33,
    "_isFastLaunch": false,
    "category": "Accelerated computing",
    "gpuNum": 4,
    "hideHardwareSpecs": false,
    "memoryGiB": 192,
    "name": "ml.g4dn.12xlarge",
    "vcpuNum": 48
   },
   {
    "_defaultOrder": 34,
    "_isFastLaunch": false,
    "category": "Accelerated computing",
    "gpuNum": 1,
    "hideHardwareSpecs": false,
    "memoryGiB": 256,
    "name": "ml.g4dn.16xlarge",
    "vcpuNum": 64
   },
   {
    "_defaultOrder": 35,
    "_isFastLaunch": false,
    "category": "Accelerated computing",
    "gpuNum": 1,
    "hideHardwareSpecs": false,
    "memoryGiB": 61,
    "name": "ml.p3.2xlarge",
    "vcpuNum": 8
   },
   {
    "_defaultOrder": 36,
    "_isFastLaunch": false,
    "category": "Accelerated computing",
    "gpuNum": 4,
    "hideHardwareSpecs": false,
    "memoryGiB": 244,
    "name": "ml.p3.8xlarge",
    "vcpuNum": 32
   },
   {
    "_defaultOrder": 37,
    "_isFastLaunch": false,
    "category": "Accelerated computing",
    "gpuNum": 8,
    "hideHardwareSpecs": false,
    "memoryGiB": 488,
    "name": "ml.p3.16xlarge",
    "vcpuNum": 64
   },
   {
    "_defaultOrder": 38,
    "_isFastLaunch": false,
    "category": "Accelerated computing",
    "gpuNum": 8,
    "hideHardwareSpecs": false,
    "memoryGiB": 768,
    "name": "ml.p3dn.24xlarge",
    "vcpuNum": 96
   },
   {
    "_defaultOrder": 39,
    "_isFastLaunch": false,
    "category": "Memory Optimized",
    "gpuNum": 0,
    "hideHardwareSpecs": false,
    "memoryGiB": 16,
    "name": "ml.r5.large",
    "vcpuNum": 2
   },
   {
    "_defaultOrder": 40,
    "_isFastLaunch": false,
    "category": "Memory Optimized",
    "gpuNum": 0,
    "hideHardwareSpecs": false,
    "memoryGiB": 32,
    "name": "ml.r5.xlarge",
    "vcpuNum": 4
   },
   {
    "_defaultOrder": 41,
    "_isFastLaunch": false,
    "category": "Memory Optimized",
    "gpuNum": 0,
    "hideHardwareSpecs": false,
    "memoryGiB": 64,
    "name": "ml.r5.2xlarge",
    "vcpuNum": 8
   },
   {
    "_defaultOrder": 42,
    "_isFastLaunch": false,
    "category": "Memory Optimized",
    "gpuNum": 0,
    "hideHardwareSpecs": false,
    "memoryGiB": 128,
    "name": "ml.r5.4xlarge",
    "vcpuNum": 16
   },
   {
    "_defaultOrder": 43,
    "_isFastLaunch": false,
    "category": "Memory Optimized",
    "gpuNum": 0,
    "hideHardwareSpecs": false,
    "memoryGiB": 256,
    "name": "ml.r5.8xlarge",
    "vcpuNum": 32
   },
   {
    "_defaultOrder": 44,
    "_isFastLaunch": false,
    "category": "Memory Optimized",
    "gpuNum": 0,
    "hideHardwareSpecs": false,
    "memoryGiB": 384,
    "name": "ml.r5.12xlarge",
    "vcpuNum": 48
   },
   {
    "_defaultOrder": 45,
    "_isFastLaunch": false,
    "category": "Memory Optimized",
    "gpuNum": 0,
    "hideHardwareSpecs": false,
    "memoryGiB": 512,
    "name": "ml.r5.16xlarge",
    "vcpuNum": 64
   },
   {
    "_defaultOrder": 46,
    "_isFastLaunch": false,
    "category": "Memory Optimized",
    "gpuNum": 0,
    "hideHardwareSpecs": false,
    "memoryGiB": 768,
    "name": "ml.r5.24xlarge",
    "vcpuNum": 96
   },
   {
    "_defaultOrder": 47,
    "_isFastLaunch": false,
    "category": "Accelerated computing",
    "gpuNum": 1,
    "hideHardwareSpecs": false,
    "memoryGiB": 16,
    "name": "ml.g5.xlarge",
    "vcpuNum": 4
   },
   {
    "_defaultOrder": 48,
    "_isFastLaunch": false,
    "category": "Accelerated computing",
    "gpuNum": 1,
    "hideHardwareSpecs": false,
    "memoryGiB": 32,
    "name": "ml.g5.2xlarge",
    "vcpuNum": 8
   },
   {
    "_defaultOrder": 49,
    "_isFastLaunch": false,
    "category": "Accelerated computing",
    "gpuNum": 1,
    "hideHardwareSpecs": false,
    "memoryGiB": 64,
    "name": "ml.g5.4xlarge",
    "vcpuNum": 16
   },
   {
    "_defaultOrder": 50,
    "_isFastLaunch": false,
    "category": "Accelerated computing",
    "gpuNum": 1,
    "hideHardwareSpecs": false,
    "memoryGiB": 128,
    "name": "ml.g5.8xlarge",
    "vcpuNum": 32
   },
   {
    "_defaultOrder": 51,
    "_isFastLaunch": false,
    "category": "Accelerated computing",
    "gpuNum": 1,
    "hideHardwareSpecs": false,
    "memoryGiB": 256,
    "name": "ml.g5.16xlarge",
    "vcpuNum": 64
   },
   {
    "_defaultOrder": 52,
    "_isFastLaunch": false,
    "category": "Accelerated computing",
    "gpuNum": 4,
    "hideHardwareSpecs": false,
    "memoryGiB": 192,
    "name": "ml.g5.12xlarge",
    "vcpuNum": 48
   },
   {
    "_defaultOrder": 53,
    "_isFastLaunch": false,
    "category": "Accelerated computing",
    "gpuNum": 4,
    "hideHardwareSpecs": false,
    "memoryGiB": 384,
    "name": "ml.g5.24xlarge",
    "vcpuNum": 96
   },
   {
    "_defaultOrder": 54,
    "_isFastLaunch": false,
    "category": "Accelerated computing",
    "gpuNum": 8,
    "hideHardwareSpecs": false,
    "memoryGiB": 768,
    "name": "ml.g5.48xlarge",
    "vcpuNum": 192
   }
  ],
  "instance_type": "ml.t3.medium",
  "kernelspec": {
   "display_name": "Python 3 (Data Science 3.0)",
   "language": "python",
   "name": "python3__SAGEMAKER_INTERNAL__arn:aws:sagemaker:us-east-1:081325390199:image/sagemaker-data-science-310-v1"
  },
  "language_info": {
   "codemirror_mode": {
    "name": "ipython",
    "version": 3
   },
   "file_extension": ".py",
   "mimetype": "text/x-python",
   "name": "python",
   "nbconvert_exporter": "python",
   "pygments_lexer": "ipython3",
   "version": "3.10.6"
  }
 },
 "nbformat": 4,
 "nbformat_minor": 5
}
